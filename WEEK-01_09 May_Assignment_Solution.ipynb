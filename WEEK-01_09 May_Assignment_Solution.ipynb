{
 "cells": [
  {
   "cell_type": "markdown",
   "id": "eb13eecc",
   "metadata": {},
   "source": [
    "Q1. Create one variable containing following type of data:\n",
    "\n",
    "(i) string\n",
    "\n",
    "(ii) list\n",
    "\n",
    "(iii) float\n",
    "\n",
    "(iv) tuple\n",
    "\n"
   ]
  },
  {
   "cell_type": "code",
   "execution_count": 1,
   "id": "74ce4978",
   "metadata": {},
   "outputs": [],
   "source": [
    "string_variable = \"Hello, world!\"\n"
   ]
  },
  {
   "cell_type": "code",
   "execution_count": 2,
   "id": "d106fc7f",
   "metadata": {},
   "outputs": [],
   "source": [
    "list_variable = [1, 2, 3, 4, 5]\n"
   ]
  },
  {
   "cell_type": "code",
   "execution_count": 3,
   "id": "6ac7ae77",
   "metadata": {},
   "outputs": [],
   "source": [
    "float_variable = 3.14\n"
   ]
  },
  {
   "cell_type": "code",
   "execution_count": 5,
   "id": "38cb835c",
   "metadata": {},
   "outputs": [],
   "source": [
    "tuple_variable = (9, 10, 11)\n"
   ]
  },
  {
   "cell_type": "markdown",
   "id": "fbe10fc6",
   "metadata": {},
   "source": [
    "Q2. Given are some following variables containing data:\n",
    "\n",
    "(i) var1 = ‘ ‘\n",
    "\n",
    "(ii) var2 = ‘[ DS , ML , Python]’\n",
    "\n",
    "(iii) var3 = [ ‘DS’ , ’ML’ , ‘Python’ ]\n",
    "\n",
    "(iv) var4 = 1.\n",
    "\n",
    "What will be the data type of the above given variable.\n",
    "\n",
    "\n",
    "\n"
   ]
  },
  {
   "cell_type": "markdown",
   "id": "ec179f44",
   "metadata": {},
   "source": [
    "var1 = ' '\n",
    "var2 = '[DS, ML, Python]'\n",
    "var3 = ['DS', 'ML', 'Python']\n",
    "var4 = 1.\n",
    "\n",
    "print(type(var1))  \n",
    "print(type(var2))  \n",
    "print(type(var3)) \n",
    "print(type(var4)) \n"
   ]
  },
  {
   "cell_type": "markdown",
   "id": "a4e85776",
   "metadata": {},
   "source": [
    "Q3. Explain the use of the following operators using an example:\n",
    "\n",
    "(i) /\n",
    "\n",
    "(ii) %\n",
    "(iii) //\n",
    "\n",
    "(iv) **\n",
    "\n"
   ]
  },
  {
   "cell_type": "code",
   "execution_count": 8,
   "id": "9198b3b7",
   "metadata": {},
   "outputs": [
    {
     "name": "stdout",
     "output_type": "stream",
     "text": [
      "Division Result: 3.3333333333333335\n",
      "Modulus Result: 1\n",
      "Floor Division Result: 3\n",
      "Exponentiation Result: 1000\n"
     ]
    }
   ],
   "source": [
    "a = 10\n",
    "b = 3\n",
    "\n",
    "division_result = a / b\n",
    "modulus_result = a % b\n",
    "floor_division_result = a // b\n",
    "exponentiation_result = a ** b\n",
    "\n",
    "print(\"Division Result:\", division_result)                \n",
    "print(\"Modulus Result:\", modulus_result)                  \n",
    "print(\"Floor Division Result:\", floor_division_result)    \n",
    "print(\"Exponentiation Result:\", exponentiation_result)    \n"
   ]
  },
  {
   "cell_type": "markdown",
   "id": "7972dcc6",
   "metadata": {},
   "source": [
    "Q4. Create a list of length 10 of your choice containing multiple types of data. Using for loop print the\n",
    "element and its data type.\n",
    "\n"
   ]
  },
  {
   "cell_type": "code",
   "execution_count": 10,
   "id": "8a11f0ff",
   "metadata": {},
   "outputs": [
    {
     "name": "stdout",
     "output_type": "stream",
     "text": [
      "Element: 10\n",
      "Data Type: <class 'int'>\n",
      "\n",
      "Element: Hello\n",
      "Data Type: <class 'str'>\n",
      "\n",
      "Element: 3.14\n",
      "Data Type: <class 'float'>\n",
      "\n",
      "Element: True\n",
      "Data Type: <class 'bool'>\n",
      "\n",
      "Element: [1, 2, 3]\n",
      "Data Type: <class 'list'>\n",
      "\n",
      "Element: (4, 5, 6)\n",
      "Data Type: <class 'tuple'>\n",
      "\n",
      "Element: {'name': 'Rahul', 'age': 30}\n",
      "Data Type: <class 'dict'>\n",
      "\n",
      "Element: None\n",
      "Data Type: <class 'NoneType'>\n",
      "\n",
      "Element: Python\n",
      "Data Type: <class 'str'>\n",
      "\n",
      "Element: False\n",
      "Data Type: <class 'bool'>\n",
      "\n"
     ]
    }
   ],
   "source": [
    "my_list = [10, \"Hello\", 3.14, True, [1, 2, 3], (4, 5, 6), {\"name\": \"Rahul\", \"age\": 30}, None, \"Python\", False]\n",
    "\n",
    "for element in my_list:\n",
    "    print(\"Element:\", element)\n",
    "    print(\"Data Type:\", type(element))\n",
    "    print()\n"
   ]
  },
  {
   "cell_type": "markdown",
   "id": "5835f946",
   "metadata": {},
   "source": [
    "Q5. Using a while loop, verify if the number A is purely divisible by number B and if so then how many\n",
    "times it can be divisible.\n",
    "\n"
   ]
  },
  {
   "cell_type": "code",
   "execution_count": 19,
   "id": "f45a0d21",
   "metadata": {},
   "outputs": [
    {
     "name": "stdout",
     "output_type": "stream",
     "text": [
      "Enter the value of A: 1\n",
      "Enter the value of B: 0\n",
      "Error: Division by zero is not possible.\n"
     ]
    }
   ],
   "source": [
    "A = int(input(\"Enter the value of A: \"))\n",
    "B = int(input(\"Enter the value of B: \"))\n",
    "\n",
    "count = 0\n",
    "\n",
    "if B != 0:\n",
    "    if A == 1 and B == 1:\n",
    "        count = 1\n",
    "    else:\n",
    "        while A % B == 0:\n",
    "            A = A // B\n",
    "            count += 1\n",
    "\n",
    "    if count > 0:\n",
    "        print(f\"A is purely divisible by B. It can be divided {count} times.\")\n",
    "    else:\n",
    "        print(\"A is not divisible by B without remainder.\")\n",
    "else:\n",
    "    print(\"Error: Division by zero is not possible.\")\n"
   ]
  },
  {
   "cell_type": "markdown",
   "id": "83d6d00e",
   "metadata": {},
   "source": [
    "Q6. Create a list containing 25 int type data. Using for loop and if-else condition print if the element is\n",
    "divisible by 3 or not.\n",
    "\n"
   ]
  },
  {
   "cell_type": "code",
   "execution_count": 20,
   "id": "a09d63d1",
   "metadata": {},
   "outputs": [
    {
     "name": "stdout",
     "output_type": "stream",
     "text": [
      "2 is not divisible by 3.\n",
      "7 is not divisible by 3.\n",
      "9 is divisible by 3.\n",
      "12 is divisible by 3.\n",
      "15 is divisible by 3.\n",
      "18 is divisible by 3.\n",
      "21 is divisible by 3.\n",
      "25 is not divisible by 3.\n",
      "27 is divisible by 3.\n",
      "30 is divisible by 3.\n",
      "33 is divisible by 3.\n",
      "36 is divisible by 3.\n",
      "39 is divisible by 3.\n",
      "42 is divisible by 3.\n",
      "45 is divisible by 3.\n",
      "48 is divisible by 3.\n",
      "51 is divisible by 3.\n",
      "54 is divisible by 3.\n",
      "57 is divisible by 3.\n",
      "60 is divisible by 3.\n",
      "63 is divisible by 3.\n",
      "66 is divisible by 3.\n",
      "69 is divisible by 3.\n",
      "72 is divisible by 3.\n",
      "75 is divisible by 3.\n"
     ]
    }
   ],
   "source": [
    "my_list = [2, 7, 9, 12, 15, 18, 21, 25, 27, 30, 33, 36, 39, 42, 45, 48, 51, 54, 57, 60, 63, 66, 69, 72, 75]\n",
    "\n",
    "for element in my_list:\n",
    "    if element % 3 == 0:\n",
    "        print(f\"{element} is divisible by 3.\")\n",
    "    else:\n",
    "        print(f\"{element} is not divisible by 3.\")\n"
   ]
  },
  {
   "cell_type": "markdown",
   "id": "9d9fafbd",
   "metadata": {},
   "source": [
    "Q7. What do you understand about mutable and immutable data types? Give examples for both showing\n",
    "this property."
   ]
  },
  {
   "cell_type": "markdown",
   "id": "e3a443f4",
   "metadata": {},
   "source": [
    "Answer-\n",
    "         \n",
    "         Immutable data types cannot be changed once assigned, while mutable data types can be modified directly.\n",
    "\n",
    "         Examples of immutable data types include integers, floats, booleans, strings, and tuples, while examples of mutable                   data types include lists, dictionaries, and sets."
   ]
  },
  {
   "cell_type": "code",
   "execution_count": 22,
   "id": "c24d2ac5",
   "metadata": {},
   "outputs": [
    {
     "name": "stdout",
     "output_type": "stream",
     "text": [
      "[1, 2, 3, 4, 5]\n",
      "[10, 2, 3, 4, 5]\n"
     ]
    }
   ],
   "source": [
    "# Lists are mutable\n",
    "numbers = [1, 2, 3, 4, 5]\n",
    "print(numbers)\n",
    "\n",
    "# Modifying the list\n",
    "numbers[0] = 10\n",
    "print(numbers)\n"
   ]
  },
  {
   "cell_type": "code",
   "execution_count": 24,
   "id": "b68e23b2",
   "metadata": {},
   "outputs": [
    {
     "name": "stdout",
     "output_type": "stream",
     "text": [
      "Alice\n"
     ]
    },
    {
     "ename": "TypeError",
     "evalue": "'str' object does not support item assignment",
     "output_type": "error",
     "traceback": [
      "\u001b[1;31m---------------------------------------------------------------------------\u001b[0m",
      "\u001b[1;31mTypeError\u001b[0m                                 Traceback (most recent call last)",
      "Cell \u001b[1;32mIn[24], line 6\u001b[0m\n\u001b[0;32m      3\u001b[0m \u001b[38;5;28mprint\u001b[39m(name)\n\u001b[0;32m      5\u001b[0m \u001b[38;5;66;03m# Attempting to modify the string\u001b[39;00m\n\u001b[1;32m----> 6\u001b[0m \u001b[43mname\u001b[49m\u001b[43m[\u001b[49m\u001b[38;5;241;43m0\u001b[39;49m\u001b[43m]\u001b[49m \u001b[38;5;241m=\u001b[39m \u001b[38;5;124m'\u001b[39m\u001b[38;5;124mB\u001b[39m\u001b[38;5;124m'\u001b[39m  \u001b[38;5;66;03m# Raises a TypeError: 'str' object does not support item assignment\u001b[39;00m\n",
      "\u001b[1;31mTypeError\u001b[0m: 'str' object does not support item assignment"
     ]
    }
   ],
   "source": [
    "# Strings are immutable\n",
    "name = \"Alice\"\n",
    "print(name)\n",
    "\n",
    "# Attempting to modify the string\n",
    "name[0] = 'B'  # Raises a TypeError: 'str' object does not support item assignment\n"
   ]
  },
  {
   "cell_type": "code",
   "execution_count": null,
   "id": "92a479dd",
   "metadata": {},
   "outputs": [],
   "source": []
  }
 ],
 "metadata": {
  "kernelspec": {
   "display_name": "Python 3 (ipykernel)",
   "language": "python",
   "name": "python3"
  },
  "language_info": {
   "codemirror_mode": {
    "name": "ipython",
    "version": 3
   },
   "file_extension": ".py",
   "mimetype": "text/x-python",
   "name": "python",
   "nbconvert_exporter": "python",
   "pygments_lexer": "ipython3",
   "version": "3.11.1"
  }
 },
 "nbformat": 4,
 "nbformat_minor": 5
}
